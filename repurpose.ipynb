{
 "cells": [
  {
   "cell_type": "markdown",
   "metadata": {},
   "source": [
    "# Repurpose: A Python-based platform for reproducible similarity-based drug repurposing\n",
    "\n",
    "Over the past years many methods for similarity-based (a.k.a. knowledge-based,\n",
    "guilt-by-association-based) drug repurposing, yet most of these studies do not\n",
    "provide the code or the model used in the study. To improve reproducibility,\n",
    "we present a Python-platform offering\n",
    "- drug feature data parsing and similarity calculation\n",
    "- data balancing\n",
    "- (disjoint) cross validation\n",
    "- classifier building\n",
    "\n",
    "Using this platform we investigate the effect using unseen data in the test\n",
    "set in similarity-based classification.\n",
    "\n",
    "\n",
    "## Requiremets\n",
    "The Python platform has the following dependencies:\n",
    "\n",
    "- [Numpy](http://www.numpy.org)\n",
    "- [Scikit-learn](http://scikit-learn.org)\n",
    "- [Toolbox](https://github.com/emreg00/toolbox)    \n",
    "\n",
    "\n",
    "## Data sets\n",
    "The data sets used in the analysis are freely available\n",
    "[online](http://astro.temple.edu/~tua87106/drugreposition.html)\n",
    "\n",
    "We have modified these data sets slightly for parsing in Python by\n",
    "- converting all drug, disease and side effect terms to lowercase\n",
    "- removing the quotations and making the text tab delimited\n",
    "- we also added the 'Drug' text to the header\n",
    "\n",
    "These modified files are available under _'data/'_ folder.\n",
    "\n",
    "## Setting up the platform"
   ]
  },
  {
   "cell_type": "code",
   "execution_count": null,
   "metadata": {
    "collapsed": false
   },
   "outputs": [],
   "source": [
    "import random\n",
    "from src import ml, utilities\n",
    "from toolbox import configuration\n",
    "\n",
    "# Get parameters\n",
    "#random.seed(52345) # for reproducibility\n",
    "features = [\"chemical\", \"target\", \"phenotype\"]\n",
    "model_type = \"logistic\" # ML model\n",
    "prediction_type = \"disease\" # predict drug-disease associations\n",
    "output_file = \"data/validation.dat.test\" # file containing run parameters and corresponding AUC values\n",
    "n_proportion = 2 # proportion of negative instances compared to positives\n",
    "n_subset = -1 # for faster results - subsampling data\n",
    "knn = 20 # number of nearest drugs to check in the pharmacological space to assing a repurposing score\n",
    "n_run = 10 # number of repetitions of cross-validation analysis\n",
    "n_fold = 10 # number of folds in cross-validation\n",
    "recalculate_similarity = True # whether the k-NN based repurposing score should be calculated within the training/test set\n",
    "\n",
    "# Get data\n",
    "drug_disease_file = \"data/drug_disease.dat\"\n",
    "drug_side_effect_file = \"data/drug_sider.dat\"\n",
    "drug_structure_file = \"data/drug_structure.dat\"\n",
    "drug_target_file = \"data/drug_protein.dat\"\n",
    "data = utilities.get_data(drug_disease_file, drug_side_effect_file, drug_structure_file, drug_target_file)"
   ]
  },
  {
   "cell_type": "markdown",
   "metadata": {},
   "source": [
    "## Evaluating similarity-based drug repurposing via cross validation\n"
   ]
  },
  {
   "cell_type": "code",
   "execution_count": null,
   "metadata": {
    "collapsed": false
   },
   "outputs": [
    {
     "name": "stdout",
     "output_type": "stream",
     "text": [
      "536 drugs, 578 diseases, 309808 pairs, 2229 known associations\n",
      "Fold: 1 # train: 6018 # test: 669\n",
      "Fold: 2 # train: 6018 # test: 669\n",
      "Fold: 3 # train: 6018 # test: 669\n",
      "Fold: 4 # train: 6018 # test: 669\n",
      "Fold:"
     ]
    }
   ],
   "source": [
    "# whether the drugs in the drug-disease pairs of the cross-validation folds should be non-overlapping disjoint_cv = False \n",
    "disjoint_cv = False \n",
    "\n",
    "# Check prediction accuracy of ML classifier on the data set using the parameters above\n",
    "ml.check_ml(data, n_run, knn, n_fold, n_proportion, n_subset, model_type, prediction_type, features, recalculate_similarity, disjoint_cv, output_file, model_fun = None)"
   ]
  },
  {
   "cell_type": "markdown",
   "metadata": {},
   "source": [
    "## Revisiting cross-validation using disjoint folds"
   ]
  },
  {
   "cell_type": "code",
   "execution_count": null,
   "metadata": {
    "collapsed": true
   },
   "outputs": [],
   "source": [
    "# whether the drugs in the drug-disease pairs of the cross-validation folds should be non-overlapping disjoint_cv = False \n",
    "disjoint_cv = True\n",
    "\n",
    "# Check prediction accuracy of ML classifier on the data set using the parameters above\n",
    "ml.check_ml(data, n_run, knn, n_fold, n_proportion, n_subset, model_type, prediction_type, features, recalculate_similarity, disjoint_cv, output_file, model_fun = None)"
   ]
  }
 ],
 "metadata": {
  "kernelspec": {
   "display_name": "Python 2",
   "language": "python",
   "name": "python2"
  },
  "language_info": {
   "codemirror_mode": {
    "name": "ipython",
    "version": 2
   },
   "file_extension": ".py",
   "mimetype": "text/x-python",
   "name": "python",
   "nbconvert_exporter": "python",
   "pygments_lexer": "ipython2",
   "version": "2.7.10"
  }
 },
 "nbformat": 4,
 "nbformat_minor": 0
}
