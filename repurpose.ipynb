{
 "cells": [
  {
   "cell_type": "markdown",
   "metadata": {},
   "source": [
    "# Repurpose: A Python-based platform for reproducible similarity-based drug repurposing\n",
    "\n",
    "Over the past years many methods for similarity-based (a.k.a. knowledge-based,\n",
    "guilt-by-association-based) drug repurposing, yet most of these studies do not\n",
    "provide the code or the model used in the study. To improve reproducibility,\n",
    "we present a Python-platform offering\n",
    "- drug feature data parsing and similarity calculation\n",
    "- data balancing\n",
    "- (disjoint) cross validation\n",
    "- classifier building\n",
    "\n",
    "Using this platform we investigate the effect using unseen data in the test\n",
    "set in similarity-based classification.\n",
    "\n",
    "\n",
    "## Requiremets\n",
    "The Python platform has the following dependencies:\n",
    "\n",
    "- [Numpy](http://www.numpy.org)\n",
    "- [Scikit-learn](http://scikit-learn.org)\n",
    "- [Toolbox](https://github.com/emreg00/toolbox)    \n",
    "\n",
    "\n",
    "## Data sets\n",
    "The data sets used in the analysis are freely available\n",
    "[online](http://astro.temple.edu/~tua87106/drugreposition.html)\n",
    "\n",
    "We have modified these data sets slightly for parsing in Python by\n",
    "- converting all drug, disease and side effect terms to lowercase\n",
    "- removing the quotations and making the text tab delimited\n",
    "- we also added the 'Drug' text to the header\n",
    "\n",
    "These modified files are available under _'data/'_ folder.\n",
    "\n",
    "## Setting up the platform"
   ]
  },
  {
   "cell_type": "code",
   "execution_count": 1,
   "metadata": {
    "collapsed": false
   },
   "outputs": [],
   "source": [
    "import random\n",
    "from src import ml, utilities\n",
    "from toolbox import configuration\n",
    "\n",
    "# Get parameters\n",
    "#random.seed(52345) # for reproducibility\n",
    "features = [\"chemical\", \"target\", \"phenotype\"]\n",
    "model_type = \"logistic\" # ML model\n",
    "prediction_type = \"disease\" # predict drug-disease associations\n",
    "output_file = \"data/validation.dat.test\" # file containing run parameters and corresponding AUC values\n",
    "n_proportion = 2 # proportion of negative instances compared to positives\n",
    "n_subset = -1 # for faster results - subsampling data\n",
    "knn = 20 # number of nearest drugs to check in the pharmacological space to assing a repurposing score\n",
    "n_run = 10 # number of repetitions of cross-validation analysis\n",
    "n_fold = 10 # number of folds in cross-validation\n",
    "recalculate_similarity = True # whether the k-NN based repurposing score should be calculated within the training/test set\n",
    "# whether the drugs in the drug-disease pairs of the cross-validation folds should be non-overlapping disjoint_cv = False \n",
    "disjoint_cv = False \n",
    "\n",
    "# Get data\n",
    "drug_disease_file = \"data/drug_disease.dat\"\n",
    "drug_side_effect_file = \"data/drug_sider.dat\"\n",
    "drug_structure_file = \"data/drug_structure.dat\"\n",
    "drug_target_file = \"data/drug_protein.dat\"\n",
    "data = utilities.get_data(drug_disease_file, drug_side_effect_file, drug_structure_file, drug_target_file)"
   ]
  },
  {
   "cell_type": "markdown",
   "metadata": {},
   "source": [
    "## Evaluating the effect of each feature in prediction performance"
   ]
  },
  {
   "cell_type": "code",
   "execution_count": 2,
   "metadata": {
    "collapsed": false
   },
   "outputs": [
    {
     "name": "stdout",
     "output_type": "stream",
     "text": [
      "chemical\n",
      "536 drugs, 578 diseases, 309808 pairs, 2229 known associations\n",
      "AUC over runs: 77.4 (+/-0.2): [77.6, 77.3, 77.1, 77.2, 77.2, 77.4, 77.4, 77.6, 77.3, 77.5]\n",
      "target\n",
      "536 drugs, 578 diseases, 309808 pairs, 2229 known associations\n",
      "AUC over runs: 76.9 (+/-0.2): [76.8, 76.9, 76.9, 76.6, 76.9, 77.1, 77.1, 77.1, 76.9, 76.7]\n",
      "phenotype\n",
      "536 drugs, 578 diseases, 309808 pairs, 2229 known associations\n",
      "AUC over runs: 80.0 (+/-0.3): [80.4, 79.8, 80.3, 80.2, 80.3, 80.4, 79.8, 80.1, 79.7, 79.4]\n"
     ]
    }
   ],
   "source": [
    "features = [\"chemical\", \"target\", \"phenotype\"]\n",
    "\n",
    "for feature in features:\n",
    "    features_modified = [ feature ]\n",
    "    print feature\n",
    "    # Check prediction accuracy of ML classifier on the data set using the parameters above\n",
    "    ml.check_ml(data, n_run, knn, n_fold, n_proportion, n_subset, model_type, prediction_type, features_modified, recalculate_similarity, disjoint_cv, output_file, model_fun = None)"
   ]
  },
  {
   "cell_type": "markdown",
   "metadata": {},
   "source": [
    "## Evaluating the effect of data imbalance"
   ]
  },
  {
   "cell_type": "code",
   "execution_count": 3,
   "metadata": {
    "collapsed": false
   },
   "outputs": [
    {
     "name": "stdout",
     "output_type": "stream",
     "text": [
      "1\n",
      "536 drugs, 578 diseases, 309808 pairs, 2229 known associations\n",
      "AUC over runs: 83.0 (+/-0.4): [83.4, 82.5, 82.8, 82.6, 83.5, 83.3, 82.8, 82.7, 83.5, 82.9]\n",
      "2\n",
      "536 drugs, 578 diseases, 309808 pairs, 2229 known associations\n",
      "AUC over runs: 84.1 (+/-0.3): [84.0, 84.1, 84.1, 83.9, 84.4, 84.5, 84.3, 83.7, 83.9, 84.6]\n",
      "5\n",
      "536 drugs, 578 diseases, 309808 pairs, 2229 known associations\n",
      "AUC over runs: 85.2 (+/-0.1): [85.4, 85.3, 85.4, 85.1, 85.2, 85.1, 85.1, 85.1, 85.4, 85.2]\n",
      "50\n",
      "536 drugs, 578 diseases, 309808 pairs, 2229 known associations\n"
     ]
    },
    {
     "ename": "KeyboardInterrupt",
     "evalue": "",
     "output_type": "error",
     "traceback": [
      "\u001b[1;31m---------------------------------------------------------------------------\u001b[0m",
      "\u001b[1;31mKeyboardInterrupt\u001b[0m                         Traceback (most recent call last)",
      "\u001b[1;32m<ipython-input-3-2be5ab587041>\u001b[0m in \u001b[0;36m<module>\u001b[1;34m()\u001b[0m\n\u001b[0;32m      5\u001b[0m     \u001b[1;32mprint\u001b[0m \u001b[0mn_proportion\u001b[0m\u001b[1;33m\u001b[0m\u001b[0m\n\u001b[0;32m      6\u001b[0m     \u001b[1;31m# Check prediction accuracy of ML classifier on the data set using the parameters above\u001b[0m\u001b[1;33m\u001b[0m\u001b[1;33m\u001b[0m\u001b[0m\n\u001b[1;32m----> 7\u001b[1;33m     \u001b[0mml\u001b[0m\u001b[1;33m.\u001b[0m\u001b[0mcheck_ml\u001b[0m\u001b[1;33m(\u001b[0m\u001b[0mdata\u001b[0m\u001b[1;33m,\u001b[0m \u001b[0mn_run\u001b[0m\u001b[1;33m,\u001b[0m \u001b[0mknn\u001b[0m\u001b[1;33m,\u001b[0m \u001b[0mn_fold\u001b[0m\u001b[1;33m,\u001b[0m \u001b[0mn_proportion\u001b[0m\u001b[1;33m,\u001b[0m \u001b[0mn_subset\u001b[0m\u001b[1;33m,\u001b[0m \u001b[0mmodel_type\u001b[0m\u001b[1;33m,\u001b[0m \u001b[0mprediction_type\u001b[0m\u001b[1;33m,\u001b[0m \u001b[0mfeatures\u001b[0m\u001b[1;33m,\u001b[0m \u001b[0mrecalculate_similarity\u001b[0m\u001b[1;33m,\u001b[0m \u001b[0mdisjoint_cv\u001b[0m\u001b[1;33m,\u001b[0m \u001b[0moutput_file\u001b[0m\u001b[1;33m,\u001b[0m \u001b[0mmodel_fun\u001b[0m \u001b[1;33m=\u001b[0m \u001b[0mNone\u001b[0m\u001b[1;33m)\u001b[0m\u001b[1;33m\u001b[0m\u001b[0m\n\u001b[0m",
      "\u001b[1;32m/home/eguney/lib/repurpose/src/ml.pyc\u001b[0m in \u001b[0;36mcheck_ml\u001b[1;34m(data, n_run, knn, n_fold, n_proportion, n_subset, model_type, prediction_type, features, recalculate_similarity, disjoint_cv, output_file, model_fun, verbose)\u001b[0m\n\u001b[0;32m     35\u001b[0m     \u001b[1;32mfor\u001b[0m \u001b[0mi\u001b[0m \u001b[1;32min\u001b[0m \u001b[0mxrange\u001b[0m\u001b[1;33m(\u001b[0m\u001b[0mn_run\u001b[0m\u001b[1;33m)\u001b[0m\u001b[1;33m:\u001b[0m\u001b[1;33m\u001b[0m\u001b[0m\n\u001b[0;32m     36\u001b[0m         \u001b[0mpairs_\u001b[0m\u001b[1;33m,\u001b[0m \u001b[0mclasses_\u001b[0m\u001b[1;33m,\u001b[0m \u001b[0mcv\u001b[0m \u001b[1;33m=\u001b[0m \u001b[0mutilities\u001b[0m\u001b[1;33m.\u001b[0m\u001b[0mbalance_data_and_get_cv\u001b[0m\u001b[1;33m(\u001b[0m\u001b[0mpairs\u001b[0m\u001b[1;33m,\u001b[0m \u001b[0mclasses\u001b[0m\u001b[1;33m,\u001b[0m \u001b[0mn_fold\u001b[0m\u001b[1;33m,\u001b[0m \u001b[0mn_proportion\u001b[0m\u001b[1;33m,\u001b[0m \u001b[0mn_subset\u001b[0m\u001b[1;33m,\u001b[0m \u001b[0mdisjoint\u001b[0m \u001b[1;33m=\u001b[0m \u001b[0mdisjoint_cv\u001b[0m\u001b[1;33m)\u001b[0m\u001b[1;33m\u001b[0m\u001b[0m\n\u001b[1;32m---> 37\u001b[1;33m         \u001b[0mval\u001b[0m\u001b[1;33m,\u001b[0m \u001b[0mval2\u001b[0m \u001b[1;33m=\u001b[0m \u001b[0mcheck_ml_helper\u001b[0m\u001b[1;33m(\u001b[0m\u001b[0mdrugs\u001b[0m\u001b[1;33m,\u001b[0m \u001b[0mdisease_to_drugs\u001b[0m\u001b[1;33m,\u001b[0m \u001b[0mdrug_to_index\u001b[0m\u001b[1;33m,\u001b[0m \u001b[0mlist_M_similarity\u001b[0m\u001b[1;33m,\u001b[0m \u001b[0mpairs_\u001b[0m\u001b[1;33m,\u001b[0m \u001b[0mclasses_\u001b[0m\u001b[1;33m,\u001b[0m \u001b[0mcv\u001b[0m\u001b[1;33m,\u001b[0m \u001b[0mknn\u001b[0m\u001b[1;33m,\u001b[0m \u001b[0mn_fold\u001b[0m\u001b[1;33m,\u001b[0m \u001b[0mn_proportion\u001b[0m\u001b[1;33m,\u001b[0m \u001b[0mn_subset\u001b[0m\u001b[1;33m,\u001b[0m \u001b[0mmodel_type\u001b[0m\u001b[1;33m,\u001b[0m \u001b[0mprediction_type\u001b[0m\u001b[1;33m,\u001b[0m \u001b[0mfeatures\u001b[0m\u001b[1;33m,\u001b[0m \u001b[0mrecalculate_similarity\u001b[0m\u001b[1;33m,\u001b[0m \u001b[0mdisjoint_cv\u001b[0m\u001b[1;33m,\u001b[0m \u001b[0moutput_f\u001b[0m\u001b[1;33m,\u001b[0m \u001b[0mmodel_fun\u001b[0m\u001b[1;33m,\u001b[0m \u001b[0mverbose\u001b[0m\u001b[1;33m)\u001b[0m\u001b[1;33m\u001b[0m\u001b[0m\n\u001b[0m\u001b[0;32m     38\u001b[0m         \u001b[0mvalues\u001b[0m\u001b[1;33m.\u001b[0m\u001b[0mappend\u001b[0m\u001b[1;33m(\u001b[0m\u001b[0mval\u001b[0m\u001b[1;33m)\u001b[0m\u001b[1;33m\u001b[0m\u001b[0m\n\u001b[0;32m     39\u001b[0m         \u001b[0mvalues2\u001b[0m\u001b[1;33m.\u001b[0m\u001b[0mappend\u001b[0m\u001b[1;33m(\u001b[0m\u001b[0mval2\u001b[0m\u001b[1;33m)\u001b[0m\u001b[1;33m\u001b[0m\u001b[0m\n",
      "\u001b[1;32m/home/eguney/lib/repurpose/src/ml.pyc\u001b[0m in \u001b[0;36mcheck_ml_helper\u001b[1;34m(drugs, disease_to_drugs, drug_to_index, list_M_similarity, pairs, classes, cv, knn, n_fold, n_proportion, n_subset, model_type, prediction_type, features, recalculate_similarity, disjoint_cv, output_f, model_fun, verbose)\u001b[0m\n\u001b[0;32m     56\u001b[0m         \u001b[0mclasses_test\u001b[0m \u001b[1;33m=\u001b[0m \u001b[0mclasses\u001b[0m\u001b[1;33m[\u001b[0m\u001b[0mtest\u001b[0m\u001b[1;33m]\u001b[0m\u001b[1;33m\u001b[0m\u001b[0m\n\u001b[0;32m     57\u001b[0m         \u001b[1;32mif\u001b[0m \u001b[0mrecalculate_similarity\u001b[0m\u001b[1;33m:\u001b[0m\u001b[1;33m\u001b[0m\u001b[0m\n\u001b[1;32m---> 58\u001b[1;33m             \u001b[0mdrug_to_disease_to_scores\u001b[0m \u001b[1;33m=\u001b[0m \u001b[0mutilities\u001b[0m\u001b[1;33m.\u001b[0m\u001b[0mget_similarity_based_scores\u001b[0m\u001b[1;33m(\u001b[0m\u001b[0mdrugs\u001b[0m\u001b[1;33m,\u001b[0m \u001b[0mdisease_to_drugs\u001b[0m\u001b[1;33m,\u001b[0m \u001b[0mdrug_to_index\u001b[0m\u001b[1;33m,\u001b[0m \u001b[0mlist_M_similarity\u001b[0m \u001b[1;33m=\u001b[0m \u001b[0mlist_M_similarity\u001b[0m\u001b[1;33m,\u001b[0m \u001b[0mknn\u001b[0m \u001b[1;33m=\u001b[0m \u001b[0mknn\u001b[0m\u001b[1;33m,\u001b[0m \u001b[0mpairs_train\u001b[0m \u001b[1;33m=\u001b[0m \u001b[0mpairs_train\u001b[0m\u001b[1;33m,\u001b[0m \u001b[0mpairs_test\u001b[0m \u001b[1;33m=\u001b[0m \u001b[0mNone\u001b[0m\u001b[1;33m,\u001b[0m \u001b[0mapproach\u001b[0m \u001b[1;33m=\u001b[0m \u001b[1;34m\"train_vs_train\"\u001b[0m\u001b[1;33m,\u001b[0m \u001b[0mfile_name\u001b[0m \u001b[1;33m=\u001b[0m \u001b[0mfile_name\u001b[0m\u001b[1;33m)\u001b[0m\u001b[1;33m\u001b[0m\u001b[0m\n\u001b[0m\u001b[0;32m     59\u001b[0m         \u001b[1;32melse\u001b[0m\u001b[1;33m:\u001b[0m\u001b[1;33m\u001b[0m\u001b[0m\n\u001b[0;32m     60\u001b[0m             \u001b[1;31m# Using similarity scores of all drugs, not only within the subset\u001b[0m\u001b[1;33m\u001b[0m\u001b[1;33m\u001b[0m\u001b[0m\n",
      "\u001b[1;32m/home/eguney/lib/repurpose/src/utilities.pyc\u001b[0m in \u001b[0;36mget_similarity_based_scores\u001b[1;34m(drugs, disease_to_drugs, drug_to_index, list_M_similarity, knn, pairs_train, pairs_test, approach, file_name)\u001b[0m\n\u001b[0;32m    266\u001b[0m                                 \u001b[1;32mcontinue\u001b[0m\u001b[1;33m\u001b[0m\u001b[0m\n\u001b[0;32m    267\u001b[0m                             \u001b[0midx2\u001b[0m \u001b[1;33m=\u001b[0m \u001b[0mdrug_to_index\u001b[0m\u001b[1;33m[\u001b[0m\u001b[0mdrug2\u001b[0m\u001b[1;33m]\u001b[0m\u001b[1;33m\u001b[0m\u001b[0m\n\u001b[1;32m--> 268\u001b[1;33m                             \u001b[0mvals\u001b[0m\u001b[1;33m.\u001b[0m\u001b[0mappend\u001b[0m\u001b[1;33m(\u001b[0m\u001b[1;33m[\u001b[0m\u001b[0mM_similarity\u001b[0m\u001b[1;33m[\u001b[0m\u001b[0midx1\u001b[0m\u001b[1;33m]\u001b[0m\u001b[1;33m[\u001b[0m\u001b[0midx2\u001b[0m\u001b[1;33m]\u001b[0m\u001b[1;33m,\u001b[0m \u001b[0mint\u001b[0m\u001b[1;33m(\u001b[0m\u001b[0mdrug2\u001b[0m \u001b[1;32min\u001b[0m \u001b[0mdrugs_gold_mod\u001b[0m\u001b[1;33m)\u001b[0m\u001b[1;33m]\u001b[0m\u001b[1;33m)\u001b[0m\u001b[1;33m\u001b[0m\u001b[0m\n\u001b[0m\u001b[0;32m    269\u001b[0m                         \u001b[0mvals\u001b[0m\u001b[1;33m.\u001b[0m\u001b[0msort\u001b[0m\u001b[1;33m(\u001b[0m\u001b[1;33m)\u001b[0m\u001b[1;33m\u001b[0m\u001b[0m\n\u001b[0;32m    270\u001b[0m                         \u001b[0mscore\u001b[0m \u001b[1;33m=\u001b[0m \u001b[1;36m0\u001b[0m\u001b[1;33m\u001b[0m\u001b[0m\n",
      "\u001b[1;31mKeyboardInterrupt\u001b[0m: "
     ]
    }
   ],
   "source": [
    "n_fold = 10 # number of folds in cross-validation\n",
    "\n",
    "# proportion of negative instances compared to positives\n",
    "for n_proportion in [ 1, 2, 5, 20 ]: \n",
    "    print n_proportion\n",
    "    # Check prediction accuracy of ML classifier on the data set using the parameters above\n",
    "    ml.check_ml(data, n_run, knn, n_fold, n_proportion, n_subset, model_type, prediction_type, features, recalculate_similarity, disjoint_cv, output_file, model_fun = None)"
   ]
  },
  {
   "cell_type": "markdown",
   "metadata": {},
   "source": [
    "## Evaluating the effect of number of folds in cross validation"
   ]
  },
  {
   "cell_type": "code",
   "execution_count": null,
   "metadata": {
    "collapsed": false
   },
   "outputs": [
    {
     "name": "stdout",
     "output_type": "stream",
     "text": [
      "2\n",
      "536 drugs, 578 diseases, 309808 pairs, 2229 known associations\n",
      "Fold: 1 # train: 3343 # test: 3344 AUC: 85.5 AUPRC: 84.8\n",
      "Fold: 2 # train: 3344 # test: 3343 AUC: 85.0 AUPRC: 85.2\n",
      "Fold: 1 # train: 3343 # test: 3344 AUC: 85.1 AUPRC: 84.9\n",
      "Fold: 2 # train: 3344 # test: 3343 AUC: 85.8 AUPRC: 85.7\n",
      "Fold:"
     ]
    }
   ],
   "source": [
    "n_proportion = 2 # proportion of negative instances compared to positives\n",
    "\n",
    "# number of folds in cross-validation\n",
    "for n_fold in [ 2, 5, 10, 20 ]: \n",
    "    print n_fold\n",
    "    # Check prediction accuracy of ML classifier on the data set using the parameters above\n",
    "    # Use verbose argument for per cross-validation metrics\n",
    "    ml.check_ml(data, n_run, knn, n_fold, n_proportion, n_subset, model_type, prediction_type, features, recalculate_similarity, disjoint_cv, output_file, model_fun = None, verbose = True)\n"
   ]
  },
  {
   "cell_type": "markdown",
   "metadata": {},
   "source": [
    "## Putting it together\n",
    "\n",
    "## Evaluating similarity-based drug repurposing via cross validation\n"
   ]
  },
  {
   "cell_type": "code",
   "execution_count": null,
   "metadata": {
    "collapsed": false
   },
   "outputs": [],
   "source": [
    "n_proportion = 2 # proportion of negative instances compared to positives\n",
    "n_fold = 10 # number of folds in cross-validation\n",
    "\n",
    "# whether the drugs in the drug-disease pairs of the cross-validation folds should be non-overlapping disjoint_cv = False \n",
    "disjoint_cv = False \n",
    "\n",
    "# Check prediction accuracy of ML classifier on the data set using the parameters above\n",
    "ml.check_ml(data, n_run, knn, n_fold, n_proportion, n_subset, model_type, prediction_type, features, recalculate_similarity, disjoint_cv, output_file, model_fun = None)"
   ]
  },
  {
   "cell_type": "markdown",
   "metadata": {},
   "source": [
    "## Revisiting cross-validation using disjoint folds"
   ]
  },
  {
   "cell_type": "code",
   "execution_count": null,
   "metadata": {
    "collapsed": false,
    "scrolled": true
   },
   "outputs": [],
   "source": [
    "# whether the drugs in the drug-disease pairs of the cross-validation folds should be non-overlapping disjoint_cv = False \n",
    "disjoint_cv = True\n",
    "\n",
    "# Check prediction accuracy of ML classifier on the data set using the parameters above\n",
    "ml.check_ml(data, n_run, knn, n_fold, n_proportion, n_subset, model_type, prediction_type, features, recalculate_similarity, disjoint_cv, output_file, model_fun = None)"
   ]
  },
  {
   "cell_type": "code",
   "execution_count": null,
   "metadata": {
    "collapsed": true
   },
   "outputs": [],
   "source": []
  }
 ],
 "metadata": {
  "kernelspec": {
   "display_name": "Python 2",
   "language": "python",
   "name": "python2"
  },
  "language_info": {
   "codemirror_mode": {
    "name": "ipython",
    "version": 2
   },
   "file_extension": ".py",
   "mimetype": "text/x-python",
   "name": "python",
   "nbconvert_exporter": "python",
   "pygments_lexer": "ipython2",
   "version": "2.7.10"
  }
 },
 "nbformat": 4,
 "nbformat_minor": 0
}
